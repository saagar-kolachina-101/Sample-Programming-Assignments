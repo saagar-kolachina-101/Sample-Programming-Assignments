{
  "nbformat": 4,
  "nbformat_minor": 0,
  "metadata": {
    "colab": {
      "provenance": []
    },
    "kernelspec": {
      "name": "python3",
      "display_name": "Python 3"
    },
    "language_info": {
      "name": "python"
    }
  },
  "cells": [
    {
      "cell_type": "code",
      "execution_count": null,
      "metadata": {
        "id": "D86yRCwfcOTu"
      },
      "outputs": [],
      "source": [
        "import numpy as np"
      ]
    },
    {
      "cell_type": "code",
      "source": [
        "#FEA Code\n",
        "def tri3_elem_arrays(nen, xe, ye, k, Q):\n",
        "    x1,x2,x3 = xe\n",
        "    y1,y2,y3 = ye\n",
        "    A = x1*(y2-y3) + x2*(y3-y1) + x3*(y1-y2)\n",
        "    A *= 1/2\n",
        "    F = np.array([1,1,1], dtype = 'float')\n",
        "    for i in range (len(F)):\n",
        "      F[i] *= (1/3) * Q * A\n",
        "    fe = F\n",
        "\n",
        "    dN1_dx = (y2-y3)\n",
        "    dN1_dy = x3-x2\n",
        "    dN2_dx = y3-y1\n",
        "    dN2_dy = x1-x3\n",
        "    dN3_dx = y1-y2\n",
        "    dN3_dy = (x2-x1)\n",
        "    coef = (1/(4*A))*k\n",
        "\n",
        "    K11 = (dN1_dx * dN1_dx) + (dN1_dy * dN1_dy)\n",
        "    K12 = (dN1_dx * dN2_dx) + (dN1_dy * dN2_dy)\n",
        "    K13 = (dN1_dx * dN3_dx) + (dN1_dy * dN3_dy)\n",
        "    K21 = K12\n",
        "    K22 = (dN2_dx * dN2_dx) + (dN2_dy * dN2_dy)\n",
        "    K23 = (dN2_dx * dN3_dx) + (dN2_dy * dN3_dy)\n",
        "    K31 = K13\n",
        "    K32 = K23\n",
        "    K33 = (dN3_dx * dN3_dx) + (dN3_dy * dN3_dy)\n",
        "    ke = np.array([[K11,K12,K13], [K21, K22, K23], [K31, K32, K33]], dtype = 'float')\n",
        "    ke *= coef\n",
        "    return ke, fe"
      ],
      "metadata": {
        "id": "FR-seHP1cPgY"
      },
      "execution_count": null,
      "outputs": []
    },
    {
      "cell_type": "code",
      "source": [
        "ke, fe = tri3_elem_arrays(1, [0,1,0], [0,1,1], 1, 1)"
      ],
      "metadata": {
        "id": "oI5aOpakcSZu"
      },
      "execution_count": null,
      "outputs": []
    },
    {
      "cell_type": "code",
      "source": [
        "print(fe)\n",
        "print(ke)"
      ],
      "metadata": {
        "colab": {
          "base_uri": "https://localhost:8080/"
        },
        "id": "SCGois7WchLV",
        "outputId": "b0a28c53-c937-4a00-9068-3e3806d7b02b"
      },
      "execution_count": null,
      "outputs": [
        {
          "output_type": "stream",
          "name": "stdout",
          "text": [
            "[0.16666667 0.16666667 0.16666667]\n",
            "[[ 0.5  0.  -0.5]\n",
            " [ 0.   0.5 -0.5]\n",
            " [-0.5 -0.5  1. ]]\n"
          ]
        }
      ]
    },
    {
      "cell_type": "code",
      "source": [
        "def tri3_assemble_global_arrays(numnp, numel, nen, p, LM, k, Q):\n",
        "\n",
        "    K = np.zeros((numnp, numnp))\n",
        "    F = np.zeros(numnp)\n",
        "\n",
        "\n",
        "\n",
        "    #Loop over elements\n",
        "    for i_elem in range(numel):\n",
        "\n",
        "\n",
        "        # Get the coordinates of this element using LM\n",
        "        xe = p[LM[:,i_elem] - 1, 0]\n",
        "        ye = p[LM[:,i_elem] - 1, 1]\n",
        "        #print(xe)\n",
        "\n",
        "        # Compute the element arrays using tri3_elem_arrays function\n",
        "        ke, fe = tri3_elem_arrays(nen, xe, ye, k, Q)\n",
        "        print(ke)\n",
        "        print(fe)\n",
        "\n",
        "        # Add the contribution of this element to the global arrays\n",
        "        for i in range(nen):\n",
        "            for j in range(nen):\n",
        "                K[LM[i, i_elem] - 1, LM[j, i_elem] - 1] += ke[i, j]\n",
        "            F[LM[i, i_elem] - 1] += fe[i]\n",
        "    #print(K)\n",
        "    #print(F)\n",
        "    return K,F"
      ],
      "metadata": {
        "id": "jOLHTPSFjURS"
      },
      "execution_count": null,
      "outputs": []
    },
    {
      "cell_type": "code",
      "source": [
        "K,F = tri3_assemble_global_arrays(6, 4, 3, np.array([[0,0], [1/2,0], [1/2,1/2], [1,0], [1,1/2], [1,1]]), np.array([[1,2,2,3],  [2,5,4,5], [3,3,5,6]]), 1, 1)\n",
        "print(K)"
      ],
      "metadata": {
        "colab": {
          "base_uri": "https://localhost:8080/"
        },
        "id": "txdmnpKoTj4q",
        "outputId": "46b349fe-4a49-45cf-a8bb-e0357ed72d87"
      },
      "execution_count": null,
      "outputs": [
        {
          "output_type": "stream",
          "name": "stdout",
          "text": [
            "[[ 0.5 -0.5  0. ]\n",
            " [-0.5  1.  -0.5]\n",
            " [ 0.  -0.5  0.5]]\n",
            "[0.04166667 0.04166667 0.04166667]\n",
            "[[ 0.5  0.  -0.5]\n",
            " [ 0.   0.5 -0.5]\n",
            " [-0.5 -0.5  1. ]]\n",
            "[0.04166667 0.04166667 0.04166667]\n",
            "[[ 0.5 -0.5  0. ]\n",
            " [-0.5  1.  -0.5]\n",
            " [ 0.  -0.5  0.5]]\n",
            "[0.04166667 0.04166667 0.04166667]\n",
            "[[ 0.5 -0.5  0. ]\n",
            " [-0.5  1.  -0.5]\n",
            " [ 0.  -0.5  0.5]]\n",
            "[0.04166667 0.04166667 0.04166667]\n",
            "[[ 0.5 -0.5  0.   0.   0.   0. ]\n",
            " [-0.5  2.  -1.  -0.5  0.   0. ]\n",
            " [ 0.  -1.   2.   0.  -1.   0. ]\n",
            " [ 0.  -0.5  0.   1.  -0.5  0. ]\n",
            " [ 0.   0.  -1.  -0.5  2.  -0.5]\n",
            " [ 0.   0.   0.   0.  -0.5  0.5]]\n"
          ]
        }
      ]
    },
    {
      "cell_type": "code",
      "source": [
        "K[3,:] = 0\n",
        "K[3,3] = 1\n",
        "F[3] = 0\n",
        "\n",
        "K[4,:] = 0\n",
        "K[4,4] = 1\n",
        "F[4] = 0\n",
        "\n",
        "K[5,:] = 0\n",
        "K[5,5] = 1\n",
        "F[5] = 0\n",
        "\n",
        "T = np.linalg.solve(K,F)\n",
        "print(T)"
      ],
      "metadata": {
        "colab": {
          "base_uri": "https://localhost:8080/"
        },
        "id": "UgVKNLkC6ql1",
        "outputId": "590b2e6d-665b-4a71-a11d-fbb16a526d8e"
      },
      "execution_count": null,
      "outputs": [
        {
          "output_type": "stream",
          "name": "stdout",
          "text": [
            "[0.3125     0.22916667 0.17708333 0.         0.         0.        ]\n"
          ]
        }
      ]
    },
    {
      "cell_type": "code",
      "source": [
        "def tri3_apply_BCs(nodeFlag, To, Ti, K, F):\n",
        "    K,F = K,F\n",
        "    for i in range(len(nodeFlag)):\n",
        "      if nodeFlag[i] == 0:\n",
        "        continue\n",
        "      elif nodeFlag[i] == 1:\n",
        "        K[i,:] = 0\n",
        "        K[i][i] = 1\n",
        "        F[i] = To\n",
        "      elif nodeFlag[i] == 2:\n",
        "        continue\n",
        "      elif nodeFlag[i] == 3:\n",
        "        K[i,:] = 0\n",
        "        K[i][i] = 1\n",
        "        F[i] = Ti\n",
        "\n",
        "\n",
        "    return K,F"
      ],
      "metadata": {
        "id": "FTUzksOprZgr"
      },
      "execution_count": null,
      "outputs": []
    },
    {
      "cell_type": "code",
      "source": [],
      "metadata": {
        "id": "QOJdMsmLtcaj"
      },
      "execution_count": null,
      "outputs": []
    },
    {
      "cell_type": "code",
      "source": [
        "#Solve 2D PDE\n",
        "def laser_heat_2d(coord_lim, N_array, t_end, Nt, rho, c, k, P, w, x_start, x_end, vL, T_bar):\n",
        "    xmin, xmax = coord_lim[0,:]\n",
        "    ymin, ymax = coord_lim[1,:]\n",
        "    Nx, Ny = N_array\n",
        "    x = np.linspace(xmin, xmax, Nx+1)\n",
        "    y = np.linspace(ymin, ymax, Ny+1)\n",
        "    t = np.linspace(0, t_end, Nt+1)\n",
        "\n",
        "    dt = t[1] - t[0]\n",
        "    dx = x[1] - x[0]\n",
        "    dy = y[1] - y[0]\n",
        "\n",
        "    xL = lambda t: x_start + vL*t\n",
        "\n",
        "\n",
        "    alpha = (k/(rho*c))\n",
        "\n",
        "    # Initialize\n",
        "    T = np.zeros((Nx+1, Ny+1, Nt+1))\n",
        "    T[:, :, 0] = T_bar\n",
        "\n",
        "    for n in range(0,Nt):\n",
        "        for i in range(1, Nx):\n",
        "            for j in range(1, Ny):\n",
        "                x_comp = T[i+1, j, n] - 2*T[i,j,n] + T[i-1, j, n]\n",
        "                y_comp = T[i,j+1, n] - 2*T[i, j, n] + T[i, j-1, n]\n",
        "                T[i , j, n+1] = T[i,j,n] + dt*alpha*((x_comp/(dx**2)) + (y_comp/(dy**2)))\n",
        "\n",
        "        #Boundary Conditions\n",
        "        #Neumann\n",
        "        if 0 <= (t[n]) <= ((x_end - x_start) / vL):\n",
        "          #xl = xL(n)\n",
        "          T[1:-1, -1, n + 1] = (T[1:-1, -2, n+1]) + (dy*((P/(w*np.sqrt(2*np.pi))) * np.exp((-(x[1:-1]-xL(t[n]))**2) / (2*(w**2))))) / k\n",
        "        else:\n",
        "          T[1:-1 , -1, n + 1] = T[1:-1, -2, n+1]\n",
        "\n",
        "        T[-1, :, n + 1] = T_bar #right end\n",
        "        T[0, :, n + 1] = T_bar #left end\n",
        "        #T[1:-1 , -1, n + 1] = T[1:-1, -2, n+1]\n",
        "        T[:, 0, n + 1] = T_bar # bottom\n",
        "\n",
        "\n",
        "    dt_max = 1/(2*alpha*((1/(dx**2)) + (1/(dy**2))))\n",
        "\n",
        "\n",
        "\n",
        "\n",
        "    return dt_max, x, y, t, T"
      ],
      "metadata": {
        "id": "HqDvAcw6ctA4"
      },
      "execution_count": null,
      "outputs": []
    },
    {
      "cell_type": "code",
      "source": [
        "#coord_lim =[[0.   0.05]\n",
        " #[0.   0.01]],\n",
        "t_end=2\n",
        "Nt=4000\n",
        "rho=7900\n",
        "c=470\n",
        "k=48\n",
        "P=5000\n",
        "w=0.001\n",
        "x_start=0.005\n",
        "x_end=0.045\n",
        "vL=0.02\n",
        "T_bar=25\n",
        "coord_lim = np.array([[0,0.05], [0,0.01]], dtype = 'float')\n",
        "dt_max, x, y, t, T = laser_heat_2d(coord_lim, [250,50], t_end, Nt, rho, c, k, P, w, x_start, x_end, vL, T_bar)\n"
      ],
      "metadata": {
        "id": "v8_Sdnmu5F6z"
      },
      "execution_count": null,
      "outputs": []
    },
    {
      "cell_type": "code",
      "source": [
        "print(dt_max)\n",
        "print(T)"
      ],
      "metadata": {
        "id": "htPEeiNxrP11"
      },
      "execution_count": null,
      "outputs": []
    },
    {
      "cell_type": "code",
      "source": [
        "# ======================= Suggested plotting code ==========================\n",
        "import matplotlib.pyplot as plt\n",
        "X, Y = np.meshgrid(x, y)\n",
        "tplot_idx = 4000 # Time index to plot; must be integer between 0 and Nt inclusive, varied for each time step plotted\n",
        "plt.figure()\n",
        "levels = np.linspace(25, np.max(T[:,:,:]), 21)\n",
        "plt.contourf(X, Y, T[:,:,tplot_idx].T, levels=levels, cmap='rainbow')\n",
        "cbar = plt.colorbar()\n",
        "cbar.ax.set_ylabel('Temperature', rotation=90)\n",
        "plt.grid()\n",
        "plt.xlabel('x')\n",
        "plt.ylabel('y')\n",
        "plt.title('Temperature distribution in the domain at $t=$'+str(t[tplot_idx]))\n",
        "\n",
        "# # Save\n",
        "# plt.savefig('contour.png')\n",
        "# # Display\n",
        "# plt.show()"
      ],
      "metadata": {
        "id": "2_8_Lvre2G3A"
      },
      "execution_count": null,
      "outputs": []
    },
    {
      "cell_type": "code",
      "source": [
        "plt.plot(t, T[126][-1], label = 'x = Lx/2, y = Ly')\n",
        "plt.plot(t, T[126][26], label = 'x = Lx/2, y = Ly/2')\n",
        "plt.xlabel('t')\n",
        "plt.ylabel('T')\n",
        "plt.legend()\n",
        "plt.grid()\n",
        "plt.title('Temperature Profile at 2 Points of the Domain')"
      ],
      "metadata": {
        "id": "LpMtm8RLK0SZ"
      },
      "execution_count": null,
      "outputs": []
    },
    {
      "cell_type": "code",
      "source": [
        "print(np.amax(T))"
      ],
      "metadata": {
        "colab": {
          "base_uri": "https://localhost:8080/"
        },
        "id": "5S2w3hupnlqG",
        "outputId": "d657a4ee-10cc-4a6b-fee4-abfc454ce944"
      },
      "execution_count": null,
      "outputs": [
        {
          "output_type": "stream",
          "name": "stdout",
          "text": [
            "103.86403479603047\n"
          ]
        }
      ]
    },
    {
      "cell_type": "code",
      "source": [
        "print(np.shape(T))"
      ],
      "metadata": {
        "id": "aRGw2nV_nqFW",
        "colab": {
          "base_uri": "https://localhost:8080/"
        },
        "outputId": "021a16a8-4fb1-4332-8520-141f14af7059"
      },
      "execution_count": null,
      "outputs": [
        {
          "output_type": "stream",
          "name": "stdout",
          "text": [
            "(251, 51, 4001)\n"
          ]
        }
      ]
    },
    {
      "cell_type": "code",
      "source": [
        "t_end=2\n",
        "Nt=2000\n",
        "N_array = [100,20]\n",
        "rho=7900\n",
        "c=470\n",
        "k=48\n",
        "P=np.array([1250, 2500, 3750, 5000, 6250, 7500])\n",
        "w=0.001\n",
        "x_start=0.005\n",
        "x_end=0.045\n",
        "vL= np.array([0.01, 0.02, 0.04, 0.08])\n",
        "T_bar=25\n",
        "coord_lim = np.array([[0,0.05], [0,0.01]], dtype = 'float')\n",
        "#dt_max, x, y, t, T = laser_heat_2d(coord_lim, N_array, t_end, Nt, rho, c, k, P, w, x_start, x_end, vL, T_bar)"
      ],
      "metadata": {
        "id": "kd5Kyu0ALxRH"
      },
      "execution_count": null,
      "outputs": []
    },
    {
      "cell_type": "code",
      "source": [
        "max_temp = np.zeros((len(vL), len(P)))\n",
        "for i in range (len(vL)):\n",
        "  P_temp = []\n",
        "  for j in range(len(P)):\n",
        "    dt_max, x, y, t, T = laser_heat_2d(coord_lim, N_array, t_end, Nt, rho, c, k, P[j], w, x_start, x_end, vL[i], T_bar)\n",
        "    max = np.amax(T)\n",
        "    P_temp.append(max)\n",
        "  max_temp[i] = P_temp\n",
        "  print(max_temp)\n",
        "\n",
        "\n"
      ],
      "metadata": {
        "id": "sTWAm1cQNIWR"
      },
      "execution_count": null,
      "outputs": []
    },
    {
      "cell_type": "code",
      "source": [
        "for i in range(len(vL)):\n",
        "  plt.plot(P, max_temp[i], label = vL[i])\n",
        "plt.legend()\n",
        "plt.xlabel('Power (W)')\n",
        "plt.ylabel ('Max Temperature')\n",
        "plt.grid()"
      ],
      "metadata": {
        "id": "BgEP35UUNRXf"
      },
      "execution_count": null,
      "outputs": []
    },
    {
      "cell_type": "code",
      "source": [],
      "metadata": {
        "id": "cy8kvMmPQ6S4"
      },
      "execution_count": null,
      "outputs": []
    }
  ]
}