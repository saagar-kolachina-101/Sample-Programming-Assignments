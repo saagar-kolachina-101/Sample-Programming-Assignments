{
  "nbformat": 4,
  "nbformat_minor": 0,
  "metadata": {
    "colab": {
      "provenance": []
    },
    "kernelspec": {
      "name": "python3",
      "display_name": "Python 3"
    },
    "language_info": {
      "name": "python"
    }
  },
  "cells": [
    {
      "cell_type": "code",
      "execution_count": null,
      "metadata": {
        "id": "FVG43z5rgm6U"
      },
      "outputs": [],
      "source": [
        "import numpy as np\n",
        "import matplotlib.pyplot as plt"
      ]
    },
    {
      "cell_type": "code",
      "source": [
        "#Define the acceleration due to gravity\n",
        "g = 9.81\n",
        "\n",
        "#Complete the RHS f for double spring pendulum system y' = f.\n",
        "#Return f as a numpy array of size 8.\n",
        "def fpend(u,ks,L0,m):\n",
        "    #x1, y1, x2, y2, x1_d, y1_d, x2_d, y2_d = u\n",
        "    x1 = u[0]\n",
        "    y1 = u[1]\n",
        "    x2 = u[2]\n",
        "    y2 = u[3]\n",
        "    x1_d = u[4]\n",
        "    y1_d = u[5]\n",
        "    x2_d = u[6]\n",
        "    y2_d = u[7]\n",
        "    k1 = ks[0]\n",
        "    k2 = ks[1]\n",
        "    L01 = L0[0]\n",
        "    L02 = L0[1]\n",
        "    m1 = m[0]\n",
        "    m2 = m[1]\n",
        "    #k1, k2 = ks\n",
        "    #L01, L02 = L0\n",
        "    #m1, m2 = m\n",
        "\n",
        "\n",
        "#magnitude of spring force\n",
        "\n",
        "    L1 = (np.sqrt((x1)**2 + (y1)**2))\n",
        "    L2 = (np.sqrt((x2-x1)**2 + (y2-y1)**2))\n",
        "\n",
        "    Fs1 = np.abs(k1*(L1 - L01))\n",
        "    Fs2 = np.abs(k2*(L2 - L02))\n",
        "\n",
        "    #print(L1, L2)\n",
        "#direction vector of spring force\n",
        "\n",
        "    #tension - in direction of the vector\n",
        "    if ((L1 > L01)):\n",
        "      #tension\n",
        "      dl1 = np.array([0-x1, 0-y1])\n",
        "    else:\n",
        "      #compression\n",
        "      dl1 = np.array([x1, y1])\n",
        "\n",
        "    F11 = (Fs1 * dl1) / (L1)\n",
        "\n",
        "\n",
        "    #if tension - in direction of vector\n",
        "    if ((L2 > L02)):\n",
        "      #tension\n",
        "      dl2 = (np.array([x1 - x2, y1 - y2]))\n",
        "    else:\n",
        "      #compression\n",
        "      dl2 = (np.array([x2 - x1, y2 - y1]))\n",
        "\n",
        "    #F12 = Fs2 * dl2\n",
        "    F21 = (Fs2 * dl2) / (L2)\n",
        "    F12 = (Fs2 * dl2 * -1) / (L2)\n",
        "\n",
        "    Fg1 = m1*g\n",
        "    Fg2 = m2*g\n",
        "\n",
        "    f = np.zeros(8, dtype = 'float')\n",
        "    f[0] = x1_d\n",
        "    f[1] = y1_d\n",
        "    f[2] = x2_d\n",
        "    f[3] = y2_d\n",
        "\n",
        "    f[4] = ((F11[0] / m1)) + ((F12[0]/ m1))\n",
        "    f[5] = (F11[1]/m1)  - (Fg1 / m1) + (F12[1] / m1)\n",
        "\n",
        "    f[6] = F21[0] / m2\n",
        "    f[7] = (F21[1]/ m2) - (Fg2 / m2)\n",
        "\n",
        "    return f\n",
        "\n"
      ],
      "metadata": {
        "id": "sD-eTMOHgrUj"
      },
      "execution_count": null,
      "outputs": []
    },
    {
      "cell_type": "code",
      "source": [
        "#TEST1\n",
        "ks = np.array([2,2])\n",
        "L0 = np.array([3.0, 1.0])\n",
        "m = np.array([1,1])\n",
        "u = np.array([1,1,-1,2,0,0,0,0])\n",
        "print(fpend(u,ks,L0, m))"
      ],
      "metadata": {
        "colab": {
          "base_uri": "https://localhost:8080/"
        },
        "id": "4I5uCzJpgVXW",
        "outputId": "492a0020-2c43-4b99-9431-e0ac0185f73b"
      },
      "execution_count": null,
      "outputs": [
        {
          "output_type": "stream",
          "name": "stdout",
          "text": [
            "[  0.           0.           0.           0.           0.03149507\n",
            "  -6.4617865    2.21114562 -10.91557281]\n"
          ]
        }
      ]
    },
    {
      "cell_type": "code",
      "source": [
        "#TEST2\n",
        "ks = np.array([2,2])\n",
        "L0 = np.array([0.5, 1.0])\n",
        "m = np.array([2,1])\n",
        "u = np.array([1,0,1,1,0,0,0,0])\n",
        "print(fpend(u,ks,L0, m))\n"
      ],
      "metadata": {
        "colab": {
          "base_uri": "https://localhost:8080/"
        },
        "id": "5jJdzto0gxkP",
        "outputId": "855c2e8a-6f92-4095-e2ce-2fc235cb68cc"
      },
      "execution_count": null,
      "outputs": [
        {
          "output_type": "stream",
          "name": "stdout",
          "text": [
            "[ 0.    0.    0.    0.   -0.5  -9.81  0.   -9.81]\n"
          ]
        }
      ]
    },
    {
      "cell_type": "code",
      "source": [
        "#TEST3\n",
        "ks = np.array([1,1])\n",
        "L0 = np.array([3.0, 1.0])\n",
        "m = np.array([1,1])\n",
        "u = np.array([-1,1,1,-1,0,0,0,0])\n",
        "print(fpend(u,ks,L0, m))\n"
      ],
      "metadata": {
        "colab": {
          "base_uri": "https://localhost:8080/"
        },
        "id": "g-k-HnWDuU_M",
        "outputId": "89653fbe-47be-4e63-91d5-839265d3a459"
      },
      "execution_count": null,
      "outputs": [
        {
          "output_type": "stream",
          "name": "stdout",
          "text": [
            "[ 0.          0.          0.          0.          0.17157288 -9.98157288\n",
            " -1.29289322 -8.51710678]\n"
          ]
        }
      ]
    },
    {
      "cell_type": "code",
      "source": [
        "#TEST4\n",
        "ks = np.array([1,1])\n",
        "L0 = np.array([1, 1])\n",
        "m = np.array([1,1])\n",
        "u = np.array([0,-2,1,-2,0,0,0,0])\n",
        "print(fpend(u,ks,L0, m))\n"
      ],
      "metadata": {
        "colab": {
          "base_uri": "https://localhost:8080/"
        },
        "id": "o-ry6uW1CnKy",
        "outputId": "81cf0f8d-0fef-4ee3-ef38-e43b72b38ac2"
      },
      "execution_count": null,
      "outputs": [
        {
          "output_type": "stream",
          "name": "stdout",
          "text": [
            "[ 0.    0.    0.    0.    0.   -8.81  0.   -9.81]\n"
          ]
        }
      ]
    },
    {
      "cell_type": "code",
      "source": [
        "#TEST5\n",
        "ks = np.array([8, 5])\n",
        "L0 = np.array([1.55296006, 1.24796064])\n",
        "m = np.array([1.6144261 , 1.70237178])\n",
        "u = np.array([-0.26583136,  0.13684332,  0.49307954, -0.17683269,  0.5634019,  -0.10753303,\n",
        "  0.50045765, -0.80556943])\n",
        "print(fpend(u,ks,L0, m))\n"
      ],
      "metadata": {
        "colab": {
          "base_uri": "https://localhost:8080/"
        },
        "id": "FNxRPy9LwCrd",
        "outputId": "ce1ad681-8386-4b97-83e5-74f9f68386b6"
      },
      "execution_count": null,
      "outputs": [
        {
          "output_type": "stream",
          "name": "stdout",
          "text": [
            "[  0.5634019   -0.10753303   0.50045765  -0.80556943  -6.74633675\n",
            "  -6.46108134   3.1817032  -11.12507396]\n"
          ]
        }
      ]
    },
    {
      "cell_type": "code",
      "source": [
        "#TEST6\n",
        "ks = np.array([5, 2])\n",
        "L0 = np.array([1.62001487, 1.9715754 ])\n",
        "m = np.array([1.25517944, 1.99119103])\n",
        "u= np.array([-0.04258033 , 0.94327086,  0.34322919 , 1.44095558, -1.04034772,  0.87392638 ,0.20135698, -0.51785466])\n",
        "\n",
        "print(fpend(u, ks, L0, m))\n",
        "print(fpend2(u,ks, L0, m))"
      ],
      "metadata": {
        "colab": {
          "base_uri": "https://localhost:8080/"
        },
        "id": "UIeuKDa8q8HK",
        "outputId": "ed72c186-5c08-4683-941a-e64303ed3160"
      },
      "execution_count": null,
      "outputs": [
        {
          "output_type": "stream",
          "name": "stdout",
          "text": [
            "[-1.04034772  0.87392638  0.20135698 -0.51785466 -1.43136725 -8.81059038\n",
            "  0.55070546 -9.0996036 ]\n",
            "[ -1.04034772   0.87392638   0.20135698  -0.51785466  -1.18857641\n",
            " -14.18907202  -1.30997183 -11.4998312 ]\n"
          ]
        }
      ]
    },
    {
      "cell_type": "code",
      "source": [
        "u0 = np.array([1, 0, 1, 1, 0, 0, 0, 0])\n",
        "ks = np.array([100, 100])\n",
        "L0 = np.array([1.0, 1.0])\n",
        "m  = np.array([1.0, 1.0])\n",
        "h = 0.02\n",
        "N = 200\n",
        "t, u = rk4pend(u0,ks,L0,m,h,N)\n",
        "print(u)"
      ],
      "metadata": {
        "colab": {
          "base_uri": "https://localhost:8080/"
        },
        "id": "dlVUd_9leWms",
        "outputId": "7234134e-7fcc-4347-fba1-7c94988d29db"
      },
      "execution_count": null,
      "outputs": [
        {
          "output_type": "stream",
          "name": "stdout",
          "text": [
            "[[ 1.00000000e+00  9.99999997e-01  9.99999834e-01 ... -1.50521105e+00\n",
            "  -1.51850681e+00 -1.50961090e+00]\n",
            " [ 0.00000000e+00 -1.96200000e-03 -7.84799935e-03 ... -3.91283004e-01\n",
            "  -3.38776041e-01 -2.95926741e-01]\n",
            " [ 1.00000000e+00  1.00000000e+00  1.00000000e+00 ... -1.70807448e+00\n",
            "  -1.56359100e+00 -1.41938387e+00]\n",
            " ...\n",
            " [ 0.00000000e+00 -1.96199998e-01 -3.92399858e-01 ...  2.79866907e+00\n",
            "   2.41440066e+00  1.84881327e+00]\n",
            " [ 0.00000000e+00  0.00000000e+00  3.87812415e-17 ...  7.24382245e+00\n",
            "   7.20972130e+00  7.21984791e+00]\n",
            " [ 0.00000000e+00 -1.96200000e-01 -3.92400000e-01 ... -6.73893871e-01\n",
            "  -6.48296949e-01 -5.75448932e-01]]\n"
          ]
        }
      ]
    },
    {
      "cell_type": "code",
      "source": [
        "u0 = np.array([1, 0, 1, 1, 0, 0, 0, 0])\n",
        "ks = np.array([100, 100])\n",
        "L0 = np.array([1.0, 1.0])\n",
        "m  = np.array([1.0, 1.0])\n",
        "h = 0.02\n",
        "N = 200\n",
        "def ab2pend(u0,ks,L0,m,h,N):\n",
        "    yab2 = np.zeros((8, N+1))\n",
        "    yab2[:,0] = u0\n",
        "    for n in range(N):\n",
        "        k_1 = fpend(yab2[:,n], ks, L0, m)\n",
        "        k_2 = fpend(yab2[:,n] + 0.5*h*k_1, ks, L0, m)\n",
        "        if (n == 0):\n",
        "            yab2[:,n+1] = yab2[:,n] + h*k_2\n",
        "        else:\n",
        "            yab2[:,n+1] = yab2[:,n] + 1.5*h*fpend(yab2[:,n], ks, L0, m) - 0.5*h*fpend(yab2[:,n-1], ks, L0, m)\n",
        "\n",
        "    t = np.linspace(0, N, N+1)\n",
        "\n",
        "    return t,yab2\n",
        "\n",
        "print(ab2pend(u0, ks, L0, m, h, N))"
      ],
      "metadata": {
        "id": "FYY3SUozWlJB",
        "colab": {
          "base_uri": "https://localhost:8080/"
        },
        "outputId": "4d0b323e-7dc2-4d26-92ff-589429946ada"
      },
      "execution_count": null,
      "outputs": [
        {
          "output_type": "stream",
          "name": "stdout",
          "text": [
            "(array([  0.,   1.,   2.,   3.,   4.,   5.,   6.,   7.,   8.,   9.,  10.,\n",
            "        11.,  12.,  13.,  14.,  15.,  16.,  17.,  18.,  19.,  20.,  21.,\n",
            "        22.,  23.,  24.,  25.,  26.,  27.,  28.,  29.,  30.,  31.,  32.,\n",
            "        33.,  34.,  35.,  36.,  37.,  38.,  39.,  40.,  41.,  42.,  43.,\n",
            "        44.,  45.,  46.,  47.,  48.,  49.,  50.,  51.,  52.,  53.,  54.,\n",
            "        55.,  56.,  57.,  58.,  59.,  60.,  61.,  62.,  63.,  64.,  65.,\n",
            "        66.,  67.,  68.,  69.,  70.,  71.,  72.,  73.,  74.,  75.,  76.,\n",
            "        77.,  78.,  79.,  80.,  81.,  82.,  83.,  84.,  85.,  86.,  87.,\n",
            "        88.,  89.,  90.,  91.,  92.,  93.,  94.,  95.,  96.,  97.,  98.,\n",
            "        99., 100., 101., 102., 103., 104., 105., 106., 107., 108., 109.,\n",
            "       110., 111., 112., 113., 114., 115., 116., 117., 118., 119., 120.,\n",
            "       121., 122., 123., 124., 125., 126., 127., 128., 129., 130., 131.,\n",
            "       132., 133., 134., 135., 136., 137., 138., 139., 140., 141., 142.,\n",
            "       143., 144., 145., 146., 147., 148., 149., 150., 151., 152., 153.,\n",
            "       154., 155., 156., 157., 158., 159., 160., 161., 162., 163., 164.,\n",
            "       165., 166., 167., 168., 169., 170., 171., 172., 173., 174., 175.,\n",
            "       176., 177., 178., 179., 180., 181., 182., 183., 184., 185., 186.,\n",
            "       187., 188., 189., 190., 191., 192., 193., 194., 195., 196., 197.,\n",
            "       198., 199., 200.]), array([[ 1.00000000e+00,  1.00000000e+00,  1.00000000e+00, ...,\n",
            "         4.68552201e-01,  5.02263957e-01,  5.31173684e-01],\n",
            "       [ 0.00000000e+00, -1.96200000e-03, -7.84800000e-03, ...,\n",
            "        -9.80941054e-01, -1.10541678e+00, -1.22596812e+00],\n",
            "       [ 1.00000000e+00,  1.00000000e+00,  1.00000000e+00, ...,\n",
            "        -5.66761201e-01, -5.20834352e-01, -4.73802956e-01],\n",
            "       ...,\n",
            "       [ 0.00000000e+00, -1.96200000e-01, -3.92399989e-01, ...,\n",
            "        -6.14409136e+00, -6.06640840e+00, -5.75410991e+00],\n",
            "       [ 0.00000000e+00,  0.00000000e+00,  0.00000000e+00, ...,\n",
            "         2.25590366e+00,  2.31968106e+00,  2.35588799e+00],\n",
            "       [ 0.00000000e+00, -1.96200000e-01, -3.92400000e-01, ...,\n",
            "        -5.19493161e+00, -5.39344315e+00, -5.59176961e+00]]))\n"
          ]
        }
      ]
    },
    {
      "cell_type": "code",
      "source": [
        "u0 = np.array([1, 0, 1, 1, 0, 0, 0, 0])\n",
        "ks = np.array([100, 100])\n",
        "L0 = np.array([1.0, 1.0])\n",
        "m  = np.array([1.0, 1.0])\n",
        "h = 0.02\n",
        "N = 300\n",
        "t, u = ab2pend(u0,ks,L0,m,h,N)\n",
        "print(u)"
      ],
      "metadata": {
        "colab": {
          "base_uri": "https://localhost:8080/"
        },
        "id": "NSAyFXnGWjM9",
        "outputId": "b30d5af7-23c3-4ea0-ee3b-05e4b9d32385"
      },
      "execution_count": null,
      "outputs": [
        {
          "output_type": "stream",
          "name": "stdout",
          "text": [
            "[[ 1.00000000e+00  1.00000000e+00  1.00000000e+00 ...  1.78902650e-01\n",
            "   1.83368521e-01  1.79374827e-01]\n",
            " [ 0.00000000e+00 -1.96200000e-03 -7.84800000e-03 ... -1.93428496e+00\n",
            "  -1.90572416e+00 -1.83763313e+00]\n",
            " [ 1.00000000e+00  1.00000000e+00  1.00000000e+00 ... -5.06771392e-01\n",
            "  -5.41215735e-01 -5.70871155e-01]\n",
            " ...\n",
            " [ 0.00000000e+00 -1.96200000e-01 -3.92399989e-01 ...  5.76044008e-01\n",
            "   2.46171555e+00  4.37449850e+00]\n",
            " [ 0.00000000e+00  0.00000000e+00  0.00000000e+00 ... -1.73640838e+00\n",
            "  -1.56731679e+00 -1.31476109e+00]\n",
            " [ 0.00000000e+00 -1.96200000e-01 -3.92400000e-01 ...  5.86607972e+00\n",
            "   5.47401407e+00  4.96126035e+00]]\n"
          ]
        }
      ]
    },
    {
      "cell_type": "code",
      "source": [
        "u0 = np.array([1, 0, 1, 1, 0, 0, 0, 0])\n",
        "ks = np.array([100, 100])\n",
        "L0 = np.array([1.0, 1.0])\n",
        "m  = np.array([1.0, 1.0])\n",
        "h = 0.02\n",
        "N = 200\n",
        "t, u = rk4pend(u0,ks,L0,m,h,N) # or lfpend or ab2pend\n",
        "\n",
        "def pendulumEnergy(u,ks,L0,m):\n",
        "  E = np.zeros(len(u[0]))\n",
        "  for i in range(len(E)):\n",
        "    x1, y1, x2, y2, v1x, v1y, v2x, v2y = u[:,i]\n",
        "    k1, k2 = ks\n",
        "    L01, L02 = L0\n",
        "    m1, m2 = m\n",
        "    v1 = np.array([v1x, v1y])\n",
        "    v2 = np.array([v2x,v2y])\n",
        "    E[i] = (.5 * m1 * (np.linalg.norm(v1)**2)) + (.5*m2*(np.linalg.norm(v2)**2))  + (.5*k1*((np.sqrt((x1)**2 + (y1)**2) - L01)**2)) + (.5*k2*(np.sqrt((x2 - x1)**2 + (y2 - y1)**2) - L02)**2) + m1*9.81*y1 + m2*9.81*y2\n",
        "  return E\n",
        "\n",
        "plt.plot(t, pendulumEnergy(u,ks,L0, m))\n"
      ],
      "metadata": {
        "colab": {
          "base_uri": "https://localhost:8080/",
          "height": 447
        },
        "id": "ksdLLo4HbBzC",
        "outputId": "29cff34d-ca2c-49f8-fca1-e96182b7d475"
      },
      "execution_count": null,
      "outputs": [
        {
          "output_type": "execute_result",
          "data": {
            "text/plain": [
              "[<matplotlib.lines.Line2D at 0x7b0ba161de10>]"
            ]
          },
          "metadata": {},
          "execution_count": 15
        },
        {
          "output_type": "display_data",
          "data": {
            "text/plain": [
              "<Figure size 640x480 with 1 Axes>"
            ],
            "image/png": "[encoded data removed]"
          },
          "metadata": {}
        }
      ]
    },
    {
      "cell_type": "code",
      "source": [],
      "metadata": {
        "id": "v4U4dPn_eN_0"
      },
      "execution_count": null,
      "outputs": []
    },
    {
      "cell_type": "code",
      "source": [
        "#Leapfrog\n",
        "def lfpend(u0,ks,L0,m,h,N):\n",
        "\n",
        "\n",
        "      ylf = np.zeros((8, N+1))\n",
        "      ylf[:,0] = u0\n",
        "      t = np.linspace(0, N, N+1)\n",
        "      for n in range(N):\n",
        "        k1 = fpend(ylf[:,n], ks, L0, m)\n",
        "        k2 = fpend(ylf[:,n] + 0.5*h*k1, ks, L0, m)\n",
        "        if (n == 0):\n",
        "            ylf[:,n+1] = ylf[:,n] + h*k2\n",
        "        else:\n",
        "            ylf[:,n+1] = ylf[:,n-1] + 2*h*fpend(ylf[:,n], ks, L0, m)\n",
        "\n",
        "      return t, ylf\n",
        "\n",
        "#RK-4\n",
        "def rk4pend(u0,ks,L0,m,h,N):\n",
        "\n",
        "\n",
        "      t = np.linspace(0, N, N+1)\n",
        "      yrk4 = np.zeros((8, N+1))\n",
        "      yrk4[:,0] = u0\n",
        "      for n in range(N):\n",
        "        k1 = fpend(yrk4[:,n], ks, L0, m)\n",
        "        k2 = fpend(yrk4[:,n] + 0.5*h*k1, ks, L0, m)\n",
        "        k3 = fpend(yrk4[:,n] + 0.5*h*k2, ks, L0, m)\n",
        "        k4 = fpend(yrk4[:,n] + h*k3, ks, L0, m)\n",
        "        yrk4[:,n+1] = yrk4[:,n] + h*(k1/6 + k2/3 + k3/3 + k4/6)\n",
        "      return t,yrk4\n",
        "\n",
        "\n",
        "\n",
        "def ab2pend(u0,ks,L0,m,h,N):\n",
        "    yab2 = np.zeros((8, N+1))\n",
        "    yab2[:,0] = u0\n",
        "    for n in range(N):\n",
        "        k_1 = fpend(yab2[:,n], ks, L0, m)\n",
        "        k_2 = fpend(yab2[:,n] + 0.5*h*k_1, ks, L0, m)\n",
        "        if (n == 0):\n",
        "            yab2[:,n+1] = yab2[:,n] + h*k_2\n",
        "        else:\n",
        "            yab2[:,n+1] = yab2[:,n] + 1.5*h*fpend(yab2[:,n], ks, L0, m) - 0.5*h*fpend(yab2[:,n-1], ks, L0, m)\n",
        "\n",
        "    t = np.linspace(0, N, N+1)\n",
        "\n",
        "    return t,yab2"
      ],
      "metadata": {
        "id": "mUhacLiheTxS"
      },
      "execution_count": null,
      "outputs": []
    },
    {
      "cell_type": "code",
      "source": [
        "u0 = np.array([1.0, 0.0, 1.0, 1.0, 0.0, 0.0, 0.0, 0.0])\n",
        "ks = np.array([100, 100])\n",
        "L0 = np.array([1.0, 1.0])\n",
        "m  = np.array([1.0, 1.0])\n",
        "h = 0.02\n",
        "N = 30000\n",
        "t, u = lfpend(u0,ks,L0,m,h,N) # or lfpend or ab2pend\n",
        "\n",
        "def pendulumEnergy(u,ks,L0,m):\n",
        "  E = np.zeros(len(u[0]))\n",
        "  for i in range(len(E)):\n",
        "    x1, y1, x2, y2, v1x, v1y, v2x, v2y = u[:,i]\n",
        "    k1, k2 = ks\n",
        "    L01, L02 = L0\n",
        "    m1, m2 = m\n",
        "    v1 = np.array([v1x, v1y])\n",
        "    v2 = np.array([v2x,v2y])\n",
        "    E[i] = (.5 * m1 * (np.linalg.norm(v1)**2)) + (.5*m2*(np.linalg.norm(v2)**2))  + (.5*k1*((np.sqrt((x1)**2 + (y1)**2) - L01)**2)) + (.5*k2*(np.sqrt((x2 - x1)**2 + (y2 - y1)**2) - L02)**2) + m1*9.81*y1 + m2*9.81*y2\n",
        "  return E\n",
        "\n",
        "plt.plot(t, pendulumEnergy(u,ks,L0, m))\n"
      ],
      "metadata": {
        "id": "nZ8mJu1Dhdql",
        "colab": {
          "base_uri": "https://localhost:8080/",
          "height": 447
        },
        "outputId": "fd1f350b-6c60-45d6-f0ca-7d71ad672fb7"
      },
      "execution_count": null,
      "outputs": [
        {
          "output_type": "execute_result",
          "data": {
            "text/plain": [
              "[<matplotlib.lines.Line2D at 0x78d5b8175510>]"
            ]
          },
          "metadata": {},
          "execution_count": 19
        },
        {
          "output_type": "display_data",
          "data": {
            "text/plain": [
              "<Figure size 640x480 with 1 Axes>"
            ],
            "image/png": "[encoded data removed]"
          },
          "metadata": {}
        }
      ]
    },
    {
      "cell_type": "code",
      "source": [
        "u0 = np.array([1, 0, 1, 1, 0, 0, 0, 0])\n",
        "ks = np.array([100, 100])\n",
        "L0 = np.array([1.0, 1.0])\n",
        "m  = np.array([1.0, 1.0])\n",
        "h = 0.02\n",
        "N = 200\n",
        "t, u = rk4pend(u0,ks,L0,m,h,N) # or lfpend or ab2pend\n",
        "print(t)"
      ],
      "metadata": {
        "colab": {
          "base_uri": "https://localhost:8080/"
        },
        "id": "_IelgzhjUrfk",
        "outputId": "07211f28-1bd5-41f3-b0e7-61a29be3cb3b"
      },
      "execution_count": null,
      "outputs": [
        {
          "output_type": "stream",
          "name": "stdout",
          "text": [
            "[  0.   1.   2.   3.   4.   5.   6.   7.   8.   9.  10.  11.  12.  13.\n",
            "  14.  15.  16.  17.  18.  19.  20.  21.  22.  23.  24.  25.  26.  27.\n",
            "  28.  29.  30.  31.  32.  33.  34.  35.  36.  37.  38.  39.  40.  41.\n",
            "  42.  43.  44.  45.  46.  47.  48.  49.  50.  51.  52.  53.  54.  55.\n",
            "  56.  57.  58.  59.  60.  61.  62.  63.  64.  65.  66.  67.  68.  69.\n",
            "  70.  71.  72.  73.  74.  75.  76.  77.  78.  79.  80.  81.  82.  83.\n",
            "  84.  85.  86.  87.  88.  89.  90.  91.  92.  93.  94.  95.  96.  97.\n",
            "  98.  99. 100. 101. 102. 103. 104. 105. 106. 107. 108. 109. 110. 111.\n",
            " 112. 113. 114. 115. 116. 117. 118. 119. 120. 121. 122. 123. 124. 125.\n",
            " 126. 127. 128. 129. 130. 131. 132. 133. 134. 135. 136. 137. 138. 139.\n",
            " 140. 141. 142. 143. 144. 145. 146. 147. 148. 149. 150. 151. 152. 153.\n",
            " 154. 155. 156. 157. 158. 159. 160. 161. 162. 163. 164. 165. 166. 167.\n",
            " 168. 169. 170. 171. 172. 173. 174. 175. 176. 177. 178. 179. 180. 181.\n",
            " 182. 183. 184. 185. 186. 187. 188. 189. 190. 191. 192. 193. 194. 195.\n",
            " 196. 197. 198. 199. 200.]\n"
          ]
        }
      ]
    },
    {
      "cell_type": "code",
      "source": [
        "u0 = np.array([1, 0, 1, 1, 0, 0, 0, 0])\n",
        "ks = np.array([100, 100])\n",
        "L0 = np.array([1.0, 1.0])\n",
        "m = np.array([1.0, 1.0])\n",
        "h = 0.02\n",
        "N = 30000\n",
        "\n",
        "t1, u1 = rk4pend(u0,ks,L0,m,h,N)\n",
        "t2, u2 = lfpend(u0,ks,L0,m,h,N)\n",
        "t3, u3 = ab2pend(u0,ks,L0,m,h,N)"
      ],
      "metadata": {
        "id": "y2_-EEJ4j36O"
      },
      "execution_count": null,
      "outputs": []
    },
    {
      "cell_type": "code",
      "source": [
        "E1 = pendulumEnergy(u1,ks,L0, m)\n",
        "E2 = pendulumEnergy(u2,ks,L0, m)\n",
        "E3 = pendulumEnergy(u3,ks,L0, m)"
      ],
      "metadata": {
        "id": "iuNp02iokPo0"
      },
      "execution_count": null,
      "outputs": []
    },
    {
      "cell_type": "code",
      "source": [
        "#RK4\n",
        "plt.plot(t1, E1)\n",
        "plt.xlabel('t')\n",
        "plt.ylabel('E')\n",
        "plt.title('Total Energy with RK4 Method')\n",
        "plt.grid()"
      ],
      "metadata": {
        "id": "o0DZUQU7kdMM"
      },
      "execution_count": null,
      "outputs": []
    },
    {
      "cell_type": "code",
      "source": [
        "plt.plot(t2, E2)\n",
        "plt.xlabel('t')\n",
        "plt.ylabel('E')\n",
        "plt.title('Total Energy with Leapfrog Method')\n",
        "plt.grid()"
      ],
      "metadata": {
        "id": "hCv_nqt0kxkr"
      },
      "execution_count": null,
      "outputs": []
    },
    {
      "cell_type": "code",
      "source": [
        "plt.plot(t3, E3)\n",
        "plt.xlabel('t')\n",
        "plt.ylabel('E')\n",
        "plt.title('Total Energy with AB2 Method')\n",
        "plt.grid()\n",
        "#plt.ylim(0,500)"
      ],
      "metadata": {
        "id": "0_BjSU4gk70r"
      },
      "execution_count": null,
      "outputs": []
    },
    {
      "cell_type": "code",
      "source": [
        "u0 = np.array([1, 0, 1, 1, 0, 0, 0, 0])\n",
        "ks = np.array([100, 100])\n",
        "L0 = np.array([1.0, 1.0])\n",
        "m = np.array([1.0, 1.0])\n",
        "h = 0.05\n",
        "N = 12000\n",
        "\n",
        "t1, u1 = rk4pend(u0,ks,L0,m,h,N)\n",
        "t2, u2 = lfpend(u0,ks,L0,m,h,N)\n",
        "t3, u3 = ab2pend(u0,ks,L0,m,h,N)"
      ],
      "metadata": {
        "id": "BjJajHuxmR-t"
      },
      "execution_count": null,
      "outputs": []
    },
    {
      "cell_type": "code",
      "source": [
        "E1 = pendulumEnergy(u1,ks,L0, m)\n",
        "E2 = pendulumEnergy(u2,ks,L0, m)\n",
        "E3 = pendulumEnergy(u3,ks,L0, m)"
      ],
      "metadata": {
        "id": "HWN5a27JmgE4"
      },
      "execution_count": null,
      "outputs": []
    },
    {
      "cell_type": "code",
      "source": [
        "plt.plot(t1, E1);\n",
        "plt.xlabel('t (h = 0.05)')\n",
        "plt.ylabel('E')\n",
        "plt.title('Total Energy with RK4 Method')\n",
        "plt.grid()"
      ],
      "metadata": {
        "id": "7l7n6bOUmtph"
      },
      "execution_count": null,
      "outputs": []
    },
    {
      "cell_type": "code",
      "source": [
        "plt.plot(t2, E2)\n",
        "plt.xlabel('t (h = 0.05)')\n",
        "plt.ylabel('E')\n",
        "plt.title('Total Energy with Leapfrog Method')\n",
        "plt.grid()"
      ],
      "metadata": {
        "id": "vsMYfFbinQK2"
      },
      "execution_count": null,
      "outputs": []
    },
    {
      "cell_type": "code",
      "source": [
        "plt.plot(t3, E3)\n",
        "plt.xlabel('t (h = 0.05)')\n",
        "plt.ylabel('E')\n",
        "plt.title('Total Energy with AB2 Method')\n",
        "plt.grid()"
      ],
      "metadata": {
        "id": "nbR3emL5nwAW"
      },
      "execution_count": null,
      "outputs": []
    },
    {
      "cell_type": "code",
      "source": [
        "u0 = np.array([1, 0, 1, 1, 0, 0, 0, 0])\n",
        "ks = np.array([100, 100])\n",
        "L0 = np.array([1.0, 1.0])\n",
        "m = np.array([1.0, 1.0])\n",
        "h = 0.1\n",
        "N = 6000\n",
        "\n",
        "t1, u1 = rk4pend(u0,ks,L0,m,h,N)\n",
        "t2, u2 = lfpend(u0,ks,L0,m,h,N)\n",
        "t3, u3 = ab2pend(u0,ks,L0,m,h,N)"
      ],
      "metadata": {
        "id": "RfiEZVjvn4nF"
      },
      "execution_count": null,
      "outputs": []
    },
    {
      "cell_type": "code",
      "source": [
        "E1 = pendulumEnergy(u1,ks,L0, m)\n",
        "E2 = pendulumEnergy(u2,ks,L0, m)\n",
        "E3 = pendulumEnergy(u3,ks,L0, m)"
      ],
      "metadata": {
        "id": "LnaINdeLpKKb"
      },
      "execution_count": null,
      "outputs": []
    },
    {
      "cell_type": "code",
      "source": [
        "plt.plot(t1, E1);\n",
        "plt.xlabel('t (h = 0.1)')\n",
        "plt.ylabel('E')\n",
        "plt.title('Total Energy with RK4 Method')\n",
        "plt.grid()"
      ],
      "metadata": {
        "id": "aYFCoBVIpJbs"
      },
      "execution_count": null,
      "outputs": []
    },
    {
      "cell_type": "code",
      "source": [
        "plt.plot(t2, E2)\n",
        "plt.xlabel('t (h = 0.1)')\n",
        "plt.ylabel('E')\n",
        "plt.title('Total Energy with Leapfrog Method')\n",
        "plt.grid()"
      ],
      "metadata": {
        "id": "477RRIi-pVzz"
      },
      "execution_count": null,
      "outputs": []
    },
    {
      "cell_type": "code",
      "source": [
        "plt.plot(t3[0:400], E3[0:400])\n",
        "plt.xlabel('t (h = 0.1)')\n",
        "plt.ylabel('E')\n",
        "plt.title('Total Energy with AB2 Method')\n",
        "plt.grid()"
      ],
      "metadata": {
        "id": "7BMB_uQjpcAT"
      },
      "execution_count": null,
      "outputs": []
    }
  ]
}